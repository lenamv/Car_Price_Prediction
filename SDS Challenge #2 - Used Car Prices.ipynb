{
 "cells": [
  {
   "cell_type": "markdown",
   "metadata": {},
   "source": [
    "\n",
    "# SDS Challenge #2 - Used Car Prices\n",
    "\n",
    "### Problem Statement\n",
    "Welcome Data Scientist to the 2nd SDS Club Monthly Challenge! This month you have been hired by a new car trader company to help sell its used cars. You will be analyzing used cars from multiple manufacturers and of different models. Your job is to help the car trader company determine the price of its used cars.\n",
    "\n",
    "### Evaluation\n",
    "$$\\begin{equation*}\n",
    "MSE = {\\frac{1}{n}\\sum_{i=1}^{n}(y_{i} - \\hat{y}_{i})^{2}}\n",
    "\\end{equation*}$$\n",
    "\n",
    "\n",
    "### Understanding the Dataset\n",
    "Each column in the dataset is labeled and explained in more detail below.\n",
    "\n",
    "manufacturer_name: the name of the car manufacturer  \n",
    "model_name: the name of the car model  \n",
    "transmission: the type of transmission the car has  \n",
    "color: the body color of the car  \n",
    "odometer_value: odometer state in kilometers  \n",
    "year_produced: the year the car was produced  \n",
    "engine_fuel: the fuel type of the engine of the car  \n",
    "engine_has_gas: whether or not the car has a propane tank with tubing  \n",
    "engine_type: the engine type of the car  \n",
    "engine_capacity: capacity of the engine in liters  \n",
    "body_type: the of body the car has  \n",
    "has_warranty: whether the car has warranty  \n",
    "state: the state of the car (new, owned, etc.)  \n",
    "drivetrain: type of drivetrain (front, rear, all)  \n",
    "feature_1 - feature_9: these features are boolean values about properties of the car  \n",
    "duration_listed: the number of days the car is listed in the catalog  \n",
    "price_usd: price of the car in USD  \n",
    "\n",
    "### Dataset Files\n",
    "public_cars.csv - Dataset to train and analyze\n",
    "pred_cars.csv - Dataset to predict cars prices\n",
    "\n",
    "### Submission\n",
    "All submissions should be sent through email to challenges@superdatascience.com. When submitting, the file should contain predictions made on the pred_cars.csv file, and it should have the following format:\n",
    "\n",
    "In [ ]:\n",
    "12000\n",
    "19500\n",
    "6000\n",
    "7500\n",
    "24000"
   ]
  },
  {
   "cell_type": "code",
   "execution_count": null,
   "metadata": {},
   "outputs": [],
   "source": []
  }
 ],
 "metadata": {
  "kernelspec": {
   "display_name": "Python 3",
   "language": "python",
   "name": "python3"
  },
  "language_info": {
   "codemirror_mode": {
    "name": "ipython",
    "version": 3
   },
   "file_extension": ".py",
   "mimetype": "text/x-python",
   "name": "python",
   "nbconvert_exporter": "python",
   "pygments_lexer": "ipython3",
   "version": "3.7.9"
  }
 },
 "nbformat": 4,
 "nbformat_minor": 4
}
