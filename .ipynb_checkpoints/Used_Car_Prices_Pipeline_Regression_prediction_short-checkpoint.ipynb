{
 "cells": [
  {
   "cell_type": "markdown",
   "metadata": {},
   "source": [
    "# Used Car Prices\n",
    "\n",
    "### Problem Statement\n",
    "\n",
    "The aim of this project is to create regression model to help the new car trader company determine the price of used cars.\n",
    "\n",
    "### Evaluation Metric\n",
    "Mean squared error (𝑀𝑆𝐸)"
   ]
  },
  {
   "cell_type": "code",
   "execution_count": 1,
   "metadata": {},
   "outputs": [
    {
     "name": "stdout",
     "output_type": "stream",
     "text": [
      "Regression model Pipeline(steps=[('preprocessor',\n",
      "                 ColumnTransformer(transformers=[('num_power',\n",
      "                                                  Pipeline(steps=[('imputer',\n",
      "                                                                   SimpleImputer(fill_value=0,\n",
      "                                                                                 strategy='constant')),\n",
      "                                                                  ('power',\n",
      "                                                                   PowerTransformer()),\n",
      "                                                                  ('scaler',\n",
      "                                                                   StandardScaler())]),\n",
      "                                                  ['odometer_value',\n",
      "                                                   'odometer_value/year',\n",
      "                                                   'duration_listed']),\n",
      "                                                 ('num_qt',\n",
      "                                                  Pipeline(steps=[('imputer',\n",
      "                                                                   SimpleImputer(fill_value=0,\n",
      "                                                                                 strategy='cons...\n",
      "                                                                   StandardScaler())]),\n",
      "                                                  ['engine_capacity', 'year',\n",
      "                                                   'other_features']),\n",
      "                                                 ('cat',\n",
      "                                                  Pipeline(steps=[('imputer',\n",
      "                                                                   SimpleImputer(fill_value='missing',\n",
      "                                                                                 strategy='constant')),\n",
      "                                                                  ('onehot',\n",
      "                                                                   OneHotEncoder(handle_unknown='ignore'))]),\n",
      "                                                  ['manufacturer_name',\n",
      "                                                   'has_warranty', 'state',\n",
      "                                                   'drivetrain', 'transmission',\n",
      "                                                   'name', 'engine_fuel',\n",
      "                                                   'color', 'body_type',\n",
      "                                                   'feature_0'])])),\n",
      "                ('model', SVR(C=1))]) is loaded.\n",
      "Regression model PowerTransformer() is loaded.\n"
     ]
    }
   ],
   "source": [
    "# Import libraries\n",
    "import pandas as pd\n",
    "import numpy as np\n",
    "import pickle\n",
    "from sklearn.preprocessing import PowerTransformer\n",
    "\n",
    "# Load the data\n",
    "prediction_data = '2. Prepared Data/pred_cars.csv'\n",
    "df = pd.read_csv(prediction_data)\n",
    "\n",
    "# Load a model from a file\n",
    "model_path = '5. Insights/Models/used_car_prices_model.pickle'\n",
    "with open(model_path, 'rb') as f:\n",
    "    regression_model_loaded = pickle.load(f)\n",
    "print('Regression model {} is loaded.'.format(regression_model_loaded))\n",
    "\n",
    "# Load the PorewTransformer object for the inverse target transformation\n",
    "transformer_path = '5. Insights/Models/used_car_prices_target_transformation.pickle'\n",
    "with open(transformer_path, 'rb') as f:\n",
    "    transformer_loaded = pickle.load(f)\n",
    "print('Transformer {} is loaded.'.format(transformer_loaded))"
   ]
  },
  {
   "cell_type": "markdown",
   "metadata": {},
   "source": [
    "### Preprocess the data"
   ]
  },
  {
   "cell_type": "code",
   "execution_count": 2,
   "metadata": {},
   "outputs": [],
   "source": [
    "# Create 'name' variable to combine manufacture and model names\n",
    "columns_strip = ['manufacturer_name', 'model_name']\n",
    "# Delete extra space in strings\n",
    "for column in columns_strip:\n",
    "    df[column] = df[column].apply(lambda x: x.strip())\n",
    "# Combine manufacture and model names    \n",
    "df['name'] = df['manufacturer_name'] + ' ' + df['model_name']\n",
    "\n",
    "# Create a feature that represents mileage per year\n",
    "df['odometer_value/year'] = round(df['odometer_value']/(2020 - df['year_produced']))\n",
    "# Create a feature how old is a car\n",
    "df['year'] = 2020 - df['year_produced']\n",
    "\n",
    "# Reduce the number of car model names\n",
    "# Set a limit of rare car occurrence\n",
    "car_total = 6\n",
    "# Count a number of car names and convert the result to a dataframe\n",
    "car_models = pd.DataFrame(df['name'].value_counts())\n",
    "# Get a list of rare car names\n",
    "car_models = car_models[car_models['name'] < car_total].index\n",
    "# create a new category'other' for rare car model names\n",
    "df['name'] = df['name'].apply(lambda x: 'other' if x in car_models else x)\n",
    "\n",
    "# Create features to reduce a number of categories\n",
    "hybrid ='hybrid_or_electric'\n",
    "df['engine_fuel'] = df['engine_fuel'].replace({'hybrid-petrol':hybrid,'hybrid-diesel':hybrid,'electric':hybrid})\n",
    "\n",
    "# Create a list of unnamed features\n",
    "features_list = ['feature_0','feature_1', 'feature_2', 'feature_3', 'feature_4', 'feature_5', 'feature_6', 'feature_7', 'feature_8', 'feature_9']\n",
    "# Count a total number of unnamed features for a car\n",
    "df['other_features']=df[features_list].sum(axis=1)"
   ]
  },
  {
   "cell_type": "code",
   "execution_count": 3,
   "metadata": {},
   "outputs": [],
   "source": [
    "# Define predictor variables\n",
    "features =[ 'manufacturer_name', 'has_warranty', 'state', 'drivetrain', 'transmission', 'name',\n",
    "           'odometer_value', 'odometer_value/year', 'year',  'engine_fuel','color',\n",
    "           'duration_listed', 'body_type', 'engine_capacity', 'other_features', 'feature_0',\n",
    "           ]"
   ]
  },
  {
   "cell_type": "markdown",
   "metadata": {},
   "source": [
    "### Prediction"
   ]
  },
  {
   "cell_type": "code",
   "execution_count": 4,
   "metadata": {},
   "outputs": [
    {
     "data": {
      "text/plain": [
       "array([-0.98057763, -0.79509045, -0.0357562 , ..., -0.36707498,\n",
       "        1.38403971, -0.71307949])"
      ]
     },
     "execution_count": 4,
     "metadata": {},
     "output_type": "execute_result"
    }
   ],
   "source": [
    "# Make prediction using the pipeline\n",
    "prediction = regression_model_loaded.predict(df[features])\n",
    "prediction"
   ]
  },
  {
   "cell_type": "code",
   "execution_count": 5,
   "metadata": {},
   "outputs": [
    {
     "data": {
      "text/html": [
       "<div>\n",
       "<style scoped>\n",
       "    .dataframe tbody tr th:only-of-type {\n",
       "        vertical-align: middle;\n",
       "    }\n",
       "\n",
       "    .dataframe tbody tr th {\n",
       "        vertical-align: top;\n",
       "    }\n",
       "\n",
       "    .dataframe thead th {\n",
       "        text-align: right;\n",
       "    }\n",
       "</style>\n",
       "<table border=\"1\" class=\"dataframe\">\n",
       "  <thead>\n",
       "    <tr style=\"text-align: right;\">\n",
       "      <th></th>\n",
       "      <th>Predicted</th>\n",
       "      <th>Predicted rounded</th>\n",
       "    </tr>\n",
       "  </thead>\n",
       "  <tbody>\n",
       "    <tr>\n",
       "      <th>0</th>\n",
       "      <td>1630.153931</td>\n",
       "      <td>1600.0</td>\n",
       "    </tr>\n",
       "    <tr>\n",
       "      <th>1</th>\n",
       "      <td>2016.545408</td>\n",
       "      <td>2000.0</td>\n",
       "    </tr>\n",
       "    <tr>\n",
       "      <th>2</th>\n",
       "      <td>4452.182328</td>\n",
       "      <td>4500.0</td>\n",
       "    </tr>\n",
       "    <tr>\n",
       "      <th>3</th>\n",
       "      <td>10044.839076</td>\n",
       "      <td>10000.0</td>\n",
       "    </tr>\n",
       "    <tr>\n",
       "      <th>4</th>\n",
       "      <td>5509.451315</td>\n",
       "      <td>5500.0</td>\n",
       "    </tr>\n",
       "    <tr>\n",
       "      <th>...</th>\n",
       "      <td>...</td>\n",
       "      <td>...</td>\n",
       "    </tr>\n",
       "    <tr>\n",
       "      <th>7702</th>\n",
       "      <td>2574.606131</td>\n",
       "      <td>2600.0</td>\n",
       "    </tr>\n",
       "    <tr>\n",
       "      <th>7703</th>\n",
       "      <td>17271.026202</td>\n",
       "      <td>17300.0</td>\n",
       "    </tr>\n",
       "    <tr>\n",
       "      <th>7704</th>\n",
       "      <td>3196.767203</td>\n",
       "      <td>3200.0</td>\n",
       "    </tr>\n",
       "    <tr>\n",
       "      <th>7705</th>\n",
       "      <td>15155.154055</td>\n",
       "      <td>15200.0</td>\n",
       "    </tr>\n",
       "    <tr>\n",
       "      <th>7706</th>\n",
       "      <td>2209.574505</td>\n",
       "      <td>2200.0</td>\n",
       "    </tr>\n",
       "  </tbody>\n",
       "</table>\n",
       "<p>7707 rows × 2 columns</p>\n",
       "</div>"
      ],
      "text/plain": [
       "         Predicted  Predicted rounded\n",
       "0      1630.153931             1600.0\n",
       "1      2016.545408             2000.0\n",
       "2      4452.182328             4500.0\n",
       "3     10044.839076            10000.0\n",
       "4      5509.451315             5500.0\n",
       "...            ...                ...\n",
       "7702   2574.606131             2600.0\n",
       "7703  17271.026202            17300.0\n",
       "7704   3196.767203             3200.0\n",
       "7705  15155.154055            15200.0\n",
       "7706   2209.574505             2200.0\n",
       "\n",
       "[7707 rows x 2 columns]"
      ]
     },
     "execution_count": 5,
     "metadata": {},
     "output_type": "execute_result"
    }
   ],
   "source": [
    "# Transform predicted price to get the rounded car price in dollars\n",
    "y_predict_price = transformer_loaded.inverse_transform(prediction.reshape(-1,1))\n",
    "# Round car price to hundred\n",
    "y_predict_price_round = np.round(y_predict_price,-2)\n",
    "# Create a dataframe with results\n",
    "results = pd.DataFrame( {'Predicted':y_predict_price.reshape(-1),\n",
    "                         'Predicted rounded':y_predict_price_round.reshape(-1)},\n",
    "                          index=df.index)\n",
    "\n",
    "# Form a dataframe with car information and predicted prices\n",
    "prediction_results = df.join(results)\n",
    "\n",
    "# Save car information and predicted prices to csv file\n",
    "fl = \"5. Insights/Prediction/used_car_prices_prediction_data_predicted_price.csv\"\n",
    "prediction_results.to_csv(fl, index=False)\n",
    "\n",
    "# Save predicted prices to csv file\n",
    "fl = \"5. Insights/Prediction/used_car_prices_predicted_price.csv\"\n",
    "results.to_csv(fl, index=False)\n",
    "\n",
    "# Predicted car prices\n",
    "results"
   ]
  },
  {
   "cell_type": "code",
   "execution_count": null,
   "metadata": {},
   "outputs": [],
   "source": []
  }
 ],
 "metadata": {
  "kernelspec": {
   "display_name": "Python 3",
   "language": "python",
   "name": "python3"
  },
  "language_info": {
   "codemirror_mode": {
    "name": "ipython",
    "version": 3
   },
   "file_extension": ".py",
   "mimetype": "text/x-python",
   "name": "python",
   "nbconvert_exporter": "python",
   "pygments_lexer": "ipython3",
   "version": "3.7.9"
  }
 },
 "nbformat": 4,
 "nbformat_minor": 4
}
